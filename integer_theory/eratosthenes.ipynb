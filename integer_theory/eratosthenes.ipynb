{
 "cells": [
  {
   "cell_type": "markdown",
   "id": "9ff17686-bb02-4bc6-8377-cea11853fefd",
   "metadata": {},
   "source": [
    "# エラトステネスの篩で素数を計算しよう\n",
    "\n",
    "エラトステネスの篩を用いて$N$以下の素数リストを生成する。\n",
    "\n",
    "以下の手順で素数リストを生成する。\n",
    "* 1と書かれた長さ$N$のリストを生成する。\n",
    "* p以外のpの倍数のインデックスを0に変更する。\n",
    "* 1が入っているインデックスが素数のリストである。\n"
   ]
  },
  {
   "cell_type": "code",
   "execution_count": 18,
   "id": "08ba8130-8280-4180-9a0c-770d99d7d6c6",
   "metadata": {},
   "outputs": [
    {
     "name": "stdout",
     "output_type": "stream",
     "text": [
      "[2, 3, 5, 7, 11, 13, 17, 19, 23, 29, 31, 37, 41, 43, 47, 53, 59, 61, 67, 71, 73, 79, 83, 89, 97, 101, 103, 107, 109, 113, 127, 131, 137, 139, 149, 151, 157, 163, 167, 173, 179, 181, 191, 193, 197, 199, 211, 223, 227, 229, 233, 239, 241, 251, 257, 263, 269, 271, 277, 281, 283, 293, 307, 311, 313, 317, 331, 337, 347, 349, 353, 359, 367, 373, 379, 383, 389, 397, 401, 409, 419, 421, 431, 433, 439, 443, 449, 457, 461, 463, 467, 479, 487, 491, 499, 503, 509, 521, 523, 541, 547, 557, 563, 569, 571, 577, 587, 593, 599, 601, 607, 613, 617, 619, 631, 641, 643, 647, 653, 659, 661, 673, 677, 683, 691, 701, 709, 719, 727, 733, 739, 743, 751, 757, 761, 769, 773, 787, 797, 809, 811, 821, 823, 827, 829, 839, 853, 857, 859, 863, 877, 881, 883, 887, 907, 911, 919, 929, 937, 941, 947, 953, 967, 971, 977, 983, 991, 997]\n"
     ]
    }
   ],
   "source": [
    "import numpy as np\n",
    "def eratosthenes(n:int)->list:\n",
    "    \"\"\"\n",
    "    retruns prime less than n\n",
    "    \"\"\"\n",
    "    PrimeJudge = np.ones(n+1)\n",
    "    PrimeJudge[0] = False\n",
    "    PrimeJudge[1] = False\n",
    "    for i in range(2,int(n**0.5)+1):\n",
    "        if not PrimeJudge[i]:\n",
    "            continue\n",
    "        for j in range(i*2,n+1,i):\n",
    "            PrimeJudge[j] = False\n",
    "    return [i for i in range(n+1) if PrimeJudge[i]]\n",
    "print (eratosthenes(997))"
   ]
  },
  {
   "cell_type": "code",
   "execution_count": null,
   "id": "3a52ce0f-b93e-489f-b40d-461dce96d6db",
   "metadata": {},
   "outputs": [],
   "source": []
  }
 ],
 "metadata": {
  "kernelspec": {
   "display_name": "Python 3 (ipykernel)",
   "language": "python",
   "name": "python3"
  },
  "language_info": {
   "codemirror_mode": {
    "name": "ipython",
    "version": 3
   },
   "file_extension": ".py",
   "mimetype": "text/x-python",
   "name": "python",
   "nbconvert_exporter": "python",
   "pygments_lexer": "ipython3",
   "version": "3.9.12"
  }
 },
 "nbformat": 4,
 "nbformat_minor": 5
}
