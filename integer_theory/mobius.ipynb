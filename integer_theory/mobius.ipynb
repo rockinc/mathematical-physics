{
 "cells": [
  {
   "cell_type": "markdown",
   "id": "afeb99ff-a2b8-4e14-a9e5-9f66d929440b",
   "metadata": {},
   "source": [
    "# メビウス関数\n",
    "\n",
    "平方数で割り切れる場合0、平方数で割り切れない場合異なる$k$個の素数で割り切れた場合$(-1)^k$となる関数。"
   ]
  },
  {
   "cell_type": "code",
   "execution_count": 1,
   "id": "54bae18d-9776-4f27-80df-efcaba568ca8",
   "metadata": {},
   "outputs": [],
   "source": [
    "import numpy as np\n",
    "    \n",
    "def mobius(n):\n",
    "    divisor=2\n",
    "    factors=[]\n",
    "    if n==1:\n",
    "        return 1\n",
    "    while divisor<=int(n**0.5)+1:\n",
    "        if n%divisor==0:\n",
    "            n//=divisor\n",
    "            factors.append(divisor)\n",
    "            if n%divisor==0:\n",
    "                return 0\n",
    "        else:\n",
    "            divisor+=1\n",
    "            is_square=1\n",
    "    if len(factors)==0:\n",
    "        factors.append(n)\n",
    "    elif n!=1:\n",
    "        factors.append(n)\n",
    "    return (-1)**len(factors)"
   ]
  },
  {
   "cell_type": "code",
   "execution_count": 2,
   "id": "a6d1689f-4d9d-4cb2-b64b-d429f6da091b",
   "metadata": {},
   "outputs": [
    {
     "data": {
      "image/png": "[encoded data removed]",
      "text/plain": [
       "<Figure size 432x288 with 1 Axes>"
      ]
     },
     "metadata": {
      "needs_background": "light"
     },
     "output_type": "display_data"
    }
   ],
   "source": [
    "import numpy as np\n",
    "import matplotlib.pyplot as plt\n",
    "\n",
    "N_max = 21\n",
    "x = np.arange(1,N_max+1)\n",
    "y = np.array([mobius(i) for i in range(1,N_max+1)])\n",
    "plt.scatter(x,y,color='black')\n",
    "\n",
    "plt.title('Mobius function',size=16)#title\n",
    "plt.xlabel('integer',size=14)#x軸ラベル\n",
    "plt.ylabel('$\\mu(x)$',size=14)#y軸ラベル\n",
    "plt.grid()\n",
    "plt.xticks([i for i in range(1,N_max+1)])\n",
    "plt.yticks([-1,0,1])\n",
    "\n",
    "\n",
    "plt.show()#おまじない"
   ]
  },
  {
   "cell_type": "markdown",
   "id": "4e93d072-b7fc-4818-9153-e8623a6d6e0b",
   "metadata": {},
   "source": [
    "## 参考　素因数分解のコード\n",
    "以下は、$2,..,[\\sqrt{n}]$までの整数$i$で$n$が割り切れないかどうかを確認するコード。`n=n/i`で$n$を更新し続ける。プログラム終了時($i=\\sqrt n$となるとき)には、$n$は1または素数であることを示すことができるので、$2,..,[\\sqrt{n}]$までの整数で割り切れるかを確認することで全ての素因数を求めることができ、素因数分解を行うことが可能である。\n",
    "\n",
    "メビウス関数は以下の素因数分解のコードを、$n$が平方数で割り切れることが判明したら0を出力する機能をつけた。\n",
    "\n",
    "### 計算コスト\n",
    "計算コストは$\\sqrt{n}$である。\n",
    "> エラトステネスの篩などを使い$\\sqrt{n}$までの素数をリストアップしておけば指数加速をさせることができる。しかし、エラトステネスの篩を使って計算する際に$O(n)$の配列の準備や、$\\sqrt{n}$の整数に対して素数判定を行わないといけないため、１回の素因数分解のコードに実装することは不向きだと考えられる。あくまで、素因数分解を複数回実行する際に有用である。"
   ]
  },
  {
   "cell_type": "code",
   "execution_count": 3,
   "id": "6d27c375-e2e6-44c9-a717-2bc5c8c97e9c",
   "metadata": {},
   "outputs": [],
   "source": [
    "def factorization(n):\n",
    "    divisor=2\n",
    "    factors=[]\n",
    "    while divisor<=int(n**0.5)+1:\n",
    "        if n%divisor==0:\n",
    "            n//=divisor\n",
    "            factors.append(divisor)\n",
    "            if n==1:\n",
    "                break\n",
    "        else:\n",
    "            divisor+=1\n",
    "    if len(factors)==0:\n",
    "        return ([n])\n",
    "    elif n!=1:\n",
    "        factors.append(n)\n",
    "        return factors\n",
    "\n",
    "def CountFactors(N):\n",
    "    if N==1:\n",
    "        return [[1,0]]\n",
    "    else:\n",
    "        listfactors=factorization(N)\n",
    "        listfactors.append(0)\n",
    "        count=[]\n",
    "        for i in range(len(listfactors)-1):\n",
    "            if listfactors[i]==listfactors[i-1]:\n",
    "                count[-1][1]+=1\n",
    "            else:\n",
    "                count.append([listfactors[i],1])\n",
    "        return (count)"
   ]
  },
  {
   "cell_type": "code",
   "execution_count": 4,
   "id": "4b085526",
   "metadata": {},
   "outputs": [],
   "source": [
    "factorization(8)"
   ]
  },
  {
   "cell_type": "markdown",
   "id": "8ba0fee8-70d0-4b39-9656-cbc188c2162f",
   "metadata": {},
   "source": [
    "# エラトステネスの篩を使った実装\n",
    "エラトステネスの篩を使って計算する際に$O(n)$の配列の準備や、$\\sqrt{n}$の整数に対して素数判定を行うので素因数分解のコードに実装しても指数加速は行われなさそうである。"
   ]
  },
  {
   "cell_type": "code",
   "execution_count": 5,
   "id": "e477546b",
   "metadata": {},
   "outputs": [],
   "source": [
    "import time\n",
    "import gc\n",
    "\n",
    "def time_measure(obj,*args,**kwargs):\n",
    "    t0 = time.perf_counter()\n",
    "    obj(*args,**kwargs)\n",
    "    t1 = time.perf_counter()\n",
    "    del obj\n",
    "    gc.collect()\n",
    "    return t1-t0"
   ]
  },
  {
   "cell_type": "code",
   "execution_count": 6,
   "id": "ee908d1b-7329-4ccb-a597-fa29ec51dd29",
   "metadata": {},
   "outputs": [
    {
     "name": "stdout",
     "output_type": "stream",
     "text": [
      "False\n",
      "False\n",
      "False\n",
      "False\n",
      "False\n",
      "False\n",
      "False\n",
      "False\n",
      "False\n"
     ]
    }
   ],
   "source": [
    "def eratosthenes(n:int)->list:\n",
    "    \"\"\"\n",
    "    retruns prime less than n\n",
    "    \"\"\"\n",
    "    PrimeJudge = np.ones(n+1)\n",
    "    PrimeJudge[0] = False\n",
    "    PrimeJudge[1] = False\n",
    "    for i in range(2,int(n**0.5)+1):\n",
    "        if not PrimeJudge[i]:\n",
    "            continue\n",
    "        for j in range(i*2,n+1,i):\n",
    "            PrimeJudge[j] = False\n",
    "    return np.array([i for i in range(n+1) if PrimeJudge[i]])\n",
    "\n",
    "def mobius_eratosthenes(n):\n",
    "    prime_list = eratosthenes(int(n**0.5)+1)\n",
    "    factors=[]\n",
    "    for divisor in prime_list:\n",
    "        if n%divisor==0:\n",
    "            n//=divisor\n",
    "            factors.append(divisor)\n",
    "            if n%divisor==0:\n",
    "                return 0\n",
    "        else:\n",
    "            divisor+=1\n",
    "            is_square=1\n",
    "    if len(factors)==0:\n",
    "        factors.append(n)\n",
    "    elif n!=1:\n",
    "        factors.append(n)\n",
    "    return (-1)**len(factors)\n",
    "\n",
    "for i in range(1,10):\n",
    "    print(time_measure(mobius_eratosthenes,i)<time_measure(mobius,i))"
   ]
  },
  {
   "cell_type": "code",
   "execution_count": 7,
   "id": "9dd24714-cb5f-4cae-bdc0-18c8f1a30e02",
   "metadata": {},
   "outputs": [
    {
     "name": "stdout",
     "output_type": "stream",
     "text": [
      "99000000 False\n",
      "99000001 False\n",
      "99000002 False\n",
      "99000003 False\n",
      "99000004 False\n",
      "99000005 False\n",
      "99000006 False\n",
      "99000007 False\n",
      "99000008 False\n",
      "99000009 False\n",
      "99000010 False\n",
      "99000011 False\n",
      "99000012 False\n",
      "99000013 False\n",
      "99000014 False\n",
      "99000015 False\n",
      "99000016 False\n",
      "99000017 False\n",
      "99000018 False\n",
      "99000019 False\n"
     ]
    }
   ],
   "source": [
    "prime_10000 = eratosthenes(10000)\n",
    "\n",
    "def mobius_eratosthenes_rev(n):\n",
    "    prime_list = prime_100\n",
    "    factors=[]\n",
    "    for divisor in prime_list:\n",
    "        if n%divisor==0:\n",
    "            n//=divisor\n",
    "            factors.append(divisor)\n",
    "            if n%divisor==0:\n",
    "                return 0\n",
    "        else:\n",
    "            divisor+=1\n",
    "            is_square=1\n",
    "    if len(factors)==0:\n",
    "        factors.append(n)\n",
    "    elif n!=1:\n",
    "        factors.append(n)\n",
    "    return (-1)**len(factors)\n",
    "\n",
    "for i in range(99000000,99000020):\n",
    "    print(i,time_measure(mobius_eratosthenes,i)<time_measure(mobius,i))"
   ]
  },
  {
   "cell_type": "code",
   "execution_count": null,
   "id": "9b447538-4b2b-4762-98d1-b211560c3001",
   "metadata": {},
   "outputs": [],
   "source": []
  }
 ],
 "metadata": {
  "kernelspec": {
   "display_name": "Python 3 (ipykernel)",
   "language": "python",
   "name": "python3"
  },
  "language_info": {
   "codemirror_mode": {
    "name": "ipython",
    "version": 3
   },
   "file_extension": ".py",
   "mimetype": "text/x-python",
   "name": "python",
   "nbconvert_exporter": "python",
   "pygments_lexer": "ipython3",
   "version": "3.9.12"
  }
 },
 "nbformat": 4,
 "nbformat_minor": 5
}
